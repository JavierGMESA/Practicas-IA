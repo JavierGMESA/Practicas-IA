{
  "cells": [
    {
      "cell_type": "markdown",
      "metadata": {
        "id": "eZMx70Qs1paP"
      },
      "source": [
        "# 1. Importaciones"
      ]
    },
    {
      "cell_type": "markdown",
      "metadata": {
        "id": "TGMb8hek3DBd"
      },
      "source": [
        "Diversas librerías útiles para el manejo de los datos y la visualización de los resultados."
      ]
    },
    {
      "cell_type": "code",
      "execution_count": 2,
      "metadata": {
        "id": "k4F-aa2rlptA"
      },
      "outputs": [],
      "source": [
        "# Tratamiento de datos\n",
        "import numpy as np\n",
        "import pandas as pd\n",
        "\n",
        "# Visualización\n",
        "import seaborn as sns\n",
        "import matplotlib.pyplot as plt\n",
        "from IPython.display import IFrame\n",
        "from PIL import Image, ImageOps\n",
        "from tqdm import tqdm\n",
        "\n",
        "from sklearn.model_selection import train_test_split # Permite dividir conjuntos de datos en train y test\n",
        "\n",
        "# Otros. Gestión de ficheros y uso de expresiones regulares\n",
        "from pathlib import Path\n",
        "import re\n",
        "\n",
        "sns.set()\n"
      ]
    },
    {
      "cell_type": "markdown",
      "metadata": {
        "id": "IVhCZMrZeiRn"
      },
      "source": [
        "Específicas de Pytorch se necesita:\n",
        "\n",
        "**torch.nn:** para crear el modelo de red neuronal.\n",
        "\n",
        "**torch.autograd:** se necesita el módulo Variable, que se encarga de manejar las operaciones de los tensores (vectores 1D, 2D, ...).\n",
        "\n",
        "**torchvision.datasets:** para cargar el conjunto de datos que vamos a utilizar.\n",
        "\n",
        "**torchvision.transforms:** contiene una serie de funciones que permitirán realizar transformaciones sobre las imágenes del conjunto de datos.\n",
        "\n",
        "**torch.optim:**  se necesita el optimizador para entrenar la red neuronal y modificar sus pesos.\n"
      ]
    },
    {
      "cell_type": "code",
      "execution_count": 3,
      "metadata": {
        "id": "BM4e_MZtehpK"
      },
      "outputs": [],
      "source": [
        "import torch\n",
        "import torch.nn as nn\n",
        "import torch.nn.functional as F\n",
        "from torch.autograd import Variable\n",
        "import torchvision.datasets as dset\n",
        "import torchvision.transforms as transforms\n",
        "import torch.optim as optim"
      ]
    },
    {
      "cell_type": "markdown",
      "metadata": {
        "id": "zeA75FLhfEyf"
      },
      "source": [
        "# 2. Carga del Conjunto de Datos"
      ]
    },
    {
      "cell_type": "markdown",
      "metadata": {
        "id": "zFGytTf67TnF"
      },
      "source": [
        "**MNIST**\n",
        "\n",
        " Se trata de un conjunto de imágenes de dígitos manuscritos, del 0 al 10.\n",
        "\n",
        " El objetivo es entrenar la red para que sea capaz de reconocer correctamente el dígito presentado a la red.\n",
        "\n",
        " Contiene un total de 60000 imágenes para entrenamiento y 10000 para test.\n",
        "\n",
        " Todos los dígitos están normalizados en tamaño y centrados en la imagen de tamaño 28×28 en escala de grises. Veamos en primer lugar, la idea general.\n"
      ]
    },
    {
      "cell_type": "code",
      "execution_count": 5,
      "metadata": {
        "id": "N-3GUHx3C-pj"
      },
      "outputs": [
        {
          "data": {
            "text/html": [
              "\n",
              "        <iframe\n",
              "            width=\"640\"\n",
              "            height=\"480\"\n",
              "            src=\"https://drive.google.com/file/d/1LZyl87ppadJA8hKiRZNReqmVT2WvEsAQ/preview\"\n",
              "            frameborder=\"0\"\n",
              "            allowfullscreen\n",
              "            \n",
              "        ></iframe>\n",
              "        "
            ],
            "text/plain": [
              "<IPython.lib.display.IFrame at 0x7fd9f9f5caf0>"
            ]
          },
          "execution_count": 5,
          "metadata": {},
          "output_type": "execute_result"
        }
      ],
      "source": [
        "IFrame(src=f\"https://drive.google.com/file/d/1LZyl87ppadJA8hKiRZNReqmVT2WvEsAQ/preview\", width=640, height=480)"
      ]
    },
    {
      "cell_type": "markdown",
      "metadata": {
        "id": "CJGmXlygC-pj"
      },
      "source": [
        "Tras esto, comprobemos qué forma tiene el dataset."
      ]
    },
    {
      "cell_type": "markdown",
      "metadata": {
        "id": "6KryEsXlfb0s"
      },
      "source": [
        "**Carga del conjunto de datos**\n",
        "\n",
        "Se usa el módulo *datasets* de torchvision, además debemos definir qué transformaciones vamos a aplicarle a todas las muestras.\n",
        "\n",
        "En nuestro caso sólo es necesario transformar los datos a Tensores, *torchvision.transforms* contiene una gran cantidad de transformaciones que se pueden aplicar a los datasets.\n",
        "\n",
        "Es recomendable normalizar los datasets, este dataset viene por defecto normalizado a valores entre 0 y 1.\n"
      ]
    },
    {
      "cell_type": "code",
      "execution_count": 6,
      "metadata": {
        "id": "D2B5dpjBfFRE"
      },
      "outputs": [],
      "source": [
        "torch.manual_seed(13) #establecer una semilla para poder reproducir los experimentos o comparar con otros\n",
        "transform = transforms.Compose([transforms.ToTensor()]) #Transformador para el dataset"
      ]
    },
    {
      "cell_type": "markdown",
      "metadata": {
        "id": "C6hzAv8mf_AG"
      },
      "source": [
        "La herramienta *datasets* de torchvision permite elegir el dataset entre los que tiene disponibles, se debe indicar la ruta a la carpeta con el parámetro root, si queremos el dataset de entrenamiento (en caso contrario obtendremos el de test), las transformaciones que se le van a aplicar y si se va a descargar el dataset."
      ]
    },
    {
      "cell_type": "code",
      "execution_count": 7,
      "metadata": {
        "id": "dNtHdCe3gVZa"
      },
      "outputs": [
        {
          "name": "stdout",
          "output_type": "stream",
          "text": [
            "Downloading http://yann.lecun.com/exdb/mnist/train-images-idx3-ubyte.gz\n",
            "Failed to download (trying next):\n",
            "HTTP Error 403: Forbidden\n",
            "\n",
            "Downloading https://ossci-datasets.s3.amazonaws.com/mnist/train-images-idx3-ubyte.gz\n",
            "Downloading https://ossci-datasets.s3.amazonaws.com/mnist/train-images-idx3-ubyte.gz to ./data/MNIST/raw/train-images-idx3-ubyte.gz\n"
          ]
        },
        {
          "name": "stderr",
          "output_type": "stream",
          "text": [
            "100%|██████████| 9.91M/9.91M [00:03<00:00, 2.79MB/s]\n"
          ]
        },
        {
          "name": "stdout",
          "output_type": "stream",
          "text": [
            "Extracting ./data/MNIST/raw/train-images-idx3-ubyte.gz to ./data/MNIST/raw\n",
            "\n",
            "Downloading http://yann.lecun.com/exdb/mnist/train-labels-idx1-ubyte.gz\n",
            "Failed to download (trying next):\n",
            "HTTP Error 403: Forbidden\n",
            "\n",
            "Downloading https://ossci-datasets.s3.amazonaws.com/mnist/train-labels-idx1-ubyte.gz\n",
            "Downloading https://ossci-datasets.s3.amazonaws.com/mnist/train-labels-idx1-ubyte.gz to ./data/MNIST/raw/train-labels-idx1-ubyte.gz\n"
          ]
        },
        {
          "name": "stderr",
          "output_type": "stream",
          "text": [
            "100%|██████████| 28.9k/28.9k [00:00<00:00, 293kB/s]\n"
          ]
        },
        {
          "name": "stdout",
          "output_type": "stream",
          "text": [
            "Extracting ./data/MNIST/raw/train-labels-idx1-ubyte.gz to ./data/MNIST/raw\n",
            "\n",
            "Downloading http://yann.lecun.com/exdb/mnist/t10k-images-idx3-ubyte.gz\n",
            "Failed to download (trying next):\n",
            "HTTP Error 403: Forbidden\n",
            "\n",
            "Downloading https://ossci-datasets.s3.amazonaws.com/mnist/t10k-images-idx3-ubyte.gz\n",
            "Downloading https://ossci-datasets.s3.amazonaws.com/mnist/t10k-images-idx3-ubyte.gz to ./data/MNIST/raw/t10k-images-idx3-ubyte.gz\n"
          ]
        },
        {
          "name": "stderr",
          "output_type": "stream",
          "text": [
            "100%|██████████| 1.65M/1.65M [00:00<00:00, 1.98MB/s]\n"
          ]
        },
        {
          "name": "stdout",
          "output_type": "stream",
          "text": [
            "Extracting ./data/MNIST/raw/t10k-images-idx3-ubyte.gz to ./data/MNIST/raw\n",
            "\n",
            "Downloading http://yann.lecun.com/exdb/mnist/t10k-labels-idx1-ubyte.gz\n",
            "Failed to download (trying next):\n",
            "HTTP Error 403: Forbidden\n",
            "\n",
            "Downloading https://ossci-datasets.s3.amazonaws.com/mnist/t10k-labels-idx1-ubyte.gz\n",
            "Downloading https://ossci-datasets.s3.amazonaws.com/mnist/t10k-labels-idx1-ubyte.gz to ./data/MNIST/raw/t10k-labels-idx1-ubyte.gz\n"
          ]
        },
        {
          "name": "stderr",
          "output_type": "stream",
          "text": [
            "100%|██████████| 4.54k/4.54k [00:00<00:00, 3.64MB/s]"
          ]
        },
        {
          "name": "stdout",
          "output_type": "stream",
          "text": [
            "Extracting ./data/MNIST/raw/t10k-labels-idx1-ubyte.gz to ./data/MNIST/raw\n",
            "\n"
          ]
        },
        {
          "name": "stderr",
          "output_type": "stream",
          "text": [
            "\n"
          ]
        }
      ],
      "source": [
        "root=\"./data\"\n",
        "train_set = dset.MNIST(root=root, train=True, transform=transform, download=True)\n",
        "test_set = dset.MNIST(root=root, train=False, transform=transform)"
      ]
    },
    {
      "cell_type": "markdown",
      "metadata": {
        "id": "hg7dL6Wd_VMT"
      },
      "source": [
        "\n",
        "## Pregunta 1:\n",
        "¿Por qué el conjunto de datos de entrenaminto se baraja *(shuffle=True)* mientras que el de test no?\n"
      ]
    },
    {
      "cell_type": "markdown",
      "metadata": {
        "id": "_lly9Y21C-pl"
      },
      "source": [
        "Para que en cada epoch, la red trabaje con datos en otro orden y así se evite el overfittin por acostumbrarse a los mismos datos en el mismo orden. En el test no se usa el shuffle porque este a priori solo se va a utilizar una vez para validar la red y no es importante que los datos se encuentren en un orden u otro."
      ]
    },
    {
      "cell_type": "markdown",
      "metadata": {
        "id": "Ln_e3cLFC-pl"
      },
      "source": [
        "La variable *batch_size* se usa para definir el tamaño de conjunto de datos que se pasará la red de una vez, es decir, en vez de clasificar y actualizar los pesos muestra por muestra vamos a hacerlo cada conjunto de *batch_size*  muestras. Se suele establecer como un número potencia de 2 (32, 64 o 128). Tenga en cuenta que cuanto mayor sea el tamaño del lote menos tiempo tardará la red en realizar una epoch y al contrario, cuanto menor sea el tamaño del lote, mayor será el tiempo. ¿Por qué se utiliza entonces?\n",
        "\n",
        "Hagamos un pequeño ejemplo práctico. Suponga que cada imagen tiene $256 \\times 256$ píxeles y está en color. Es decir, $192 KiB$ por imagen. Si tenemos $60000$ imágenes eso quiere decir que en total ocuparía... ¡Casi $11GiB$ de memoria! Evidentemente no es factible reservar esa cantidad de memoria, de ahí que la solución pase por la carga de pequeños lotes de imágenes para cada actualización del gradiente. En este caso, serían unos 24 MiB, lo cual sí es asumible.\n",
        "\n",
        "Tenga en cuenta que el concepto de lote no está limitado a problemas en los que los datos son imágenes, aunque sí es más frecuente verlo en este tipo de problemas."
      ]
    },
    {
      "cell_type": "code",
      "execution_count": 8,
      "metadata": {
        "id": "IdNDlx4ef_c6"
      },
      "outputs": [],
      "source": [
        "batch_size = 128\n",
        "train_loader = torch.utils.data.DataLoader(\n",
        "                 dataset=train_set,\n",
        "                 batch_size=batch_size,\n",
        "                 shuffle=True)\n",
        "test_loader = torch.utils.data.DataLoader(\n",
        "                dataset=test_set,\n",
        "                batch_size=batch_size,\n",
        "                shuffle=False)"
      ]
    },
    {
      "cell_type": "markdown",
      "metadata": {
        "id": "JCr7aODBkWtS"
      },
      "source": [
        "**Visualización de algunos datos**"
      ]
    },
    {
      "cell_type": "code",
      "execution_count": 9,
      "metadata": {
        "id": "IOvGrcCFiWFK"
      },
      "outputs": [
        {
          "data": {
            "image/png": "[encoded data removed]",
            "text/plain": [
              "<Figure size 1200x400 with 8 Axes>"
            ]
          },
          "metadata": {},
          "output_type": "display_data"
        }
      ],
      "source": [
        "%matplotlib inline\n",
        "import numpy as np\n",
        "import matplotlib.pyplot as plt\n",
        "\n",
        "Nsubplots=8  #Dividir en el número de imágenes que queramos mostrar en una fila\n",
        "fig, ax = plt.subplots(1, Nsubplots, figsize=(12, 4), tight_layout=True)\n",
        "idx = np.random.choice(len(train_set), Nsubplots) # Se seleccionan de forma aleatoria 8 índices\n",
        "\n",
        "for k in range(Nsubplots):\n",
        "    imagen, etiqueta = train_set[idx[k]]\n",
        "    ax[k].imshow(imagen[0, :, :].numpy(), cmap=\"Greys_r\")\n",
        "    ax[k].axis('off') # Se eliminan los ejes para que sólo se vean los números.\n",
        "    ax[k].set_title(etiqueta)\n",
        "\n"
      ]
    },
    {
      "cell_type": "markdown",
      "metadata": {
        "id": "MpiHsZl99nI2"
      },
      "source": [
        "# 3. Definición del modelo neuronal"
      ]
    },
    {
      "cell_type": "markdown",
      "metadata": {
        "id": "eW-Nkl7UnAhu"
      },
      "source": [
        "La RNA se define como una clase perteneciente a *nn.Module*.\n",
        "\n",
        "En el constructor __init__ se definen las capas de las cuales constará el modelo.\n",
        "\n",
        "En el método **forward** se especifica la interconexión de las capas."
      ]
    },
    {
      "cell_type": "markdown",
      "metadata": {
        "id": "UdKELHWjnTDK"
      },
      "source": [
        "\n",
        "Esta red consta de una capa oculta con $N_{ocultas}$ unidades y una capa de salida con 10 unidades, una unidad por cada una de las posibles clases (en nuestro caso los dígitos del 0 al 9).\n",
        "\n",
        "Se aplicará la función de activación ReLU en la capa oculta, y la función Softmax para la capa de salida.\n",
        "\n",
        "La capa oculta recibe los datos de entrada a través del tensor, que tiene un tamaño 28x28, por tanto la capa tendrá un tamaño de entrada de 28x28 y un tamaño de salida de $N_{ocultas}$.\n",
        "\n",
        "La capa de salida recibirá los datos de la capa oculta con un tamaño de $N_{ocultas}$ y su salida será igual al número de clases, en nuestro caso 10 clases."
      ]
    },
    {
      "cell_type": "markdown",
      "metadata": {
        "id": "hpqv-AV-GAAn"
      },
      "source": [
        "## Pregunta 2:\n",
        "¿Tiene sentido cambiar el número de unidades en la capa de salida?\n",
        "¿Y en la capa oculta?"
      ]
    },
    {
      "cell_type": "markdown",
      "metadata": {
        "id": "KEBSUsIvC-pm"
      },
      "source": [
        "En la capa de salida no tiene sentido, pues los diferentes resultados de la clasificación son los que son (10) y hay una unidad por salida, por lo que no tiene sentido añadir más unidades. En la capa oculta si que tiene sentido modificar el número de unidades, ya sea aumentarlo para potencialmente mejorar la exactitud de la red o bien disminuirla para evitar overfittin."
      ]
    },
    {
      "cell_type": "code",
      "execution_count": 10,
      "metadata": {
        "id": "GQWBOzDhC-pm"
      },
      "outputs": [],
      "source": [
        "class MLP(nn.Module):\n",
        "    def __init__(self, Nocultas):\n",
        "        super(MLP, self).__init__()\n",
        "        self.Nocultas = Nocultas\n",
        "        self.fc1 = nn.Linear(28*28, self.Nocultas) # Capa oculta\n",
        "        self.fc2 = nn.Linear(self.Nocultas, 10) # Capa de salida\n",
        "\n",
        "    def forward(self, x):\n",
        "        x = x.view(-1, 28*28) # Transforma las imágenes de tamaño (n, 28, 28) a (n, 784)\n",
        "        x = F.relu(self.fc1(x)) # Función de activación relu en la salida de la capa oculta\n",
        "        x = F.softmax(self.fc2(x), dim=1) # Función de activación softmax en la salida de la capa oculta\n",
        "        return x"
      ]
    },
    {
      "cell_type": "code",
      "execution_count": 11,
      "metadata": {
        "id": "L5s_-JCrC-pm"
      },
      "outputs": [],
      "source": [
        "# Versión equivalente al modelo de arriba. Tal y como se ha visto en seminarios, es la otra forma posible de definir una red.\n",
        "# model = nn.Sequential(\n",
        "#     nn.Flatten(),\n",
        "#     nn.Linear(28*28, 128),\n",
        "#     nn.ReLU(),\n",
        "#     nn.Linear(128, 10),\n",
        "#     nn.Softmax(dim=1)\n",
        "# )"
      ]
    },
    {
      "cell_type": "markdown",
      "metadata": {
        "id": "l0XxCi8yoMnD"
      },
      "source": [
        "Una vez definida la clase MLP, que contiene el modelo neuronal deseado, se crea un objeto de dicha clase, la medida específica para calcular el error, en este caso  y el optimizador que vamos a utilizar para ajustar los pesos de la red. En nuestro caso será el descenso por gradiente estocástico el optimizador que utilizaremos con un ratio de aprendizaje de 0.1 y un momento de 0.9. Recuerde que el momento o *momentum*, es un parámetro que facilita la convergencia a la solución de forma más rápida."
      ]
    },
    {
      "cell_type": "code",
      "execution_count": 34,
      "metadata": {
        "id": "Bd5V6pmpoOin"
      },
      "outputs": [],
      "source": [
        "model = MLP(128)\n",
        "lossFun = nn.CrossEntropyLoss()\n",
        "optimizer = torch.optim.SGD(model.parameters(), lr=0.1, momentum=0.9)"
      ]
    },
    {
      "cell_type": "markdown",
      "metadata": {
        "id": "frz1Z4Oi98QN"
      },
      "source": [
        "# 4. Entrenamiento del modelo"
      ]
    },
    {
      "cell_type": "markdown",
      "metadata": {
        "id": "0Rq-oBoetQw0"
      },
      "source": [
        "El proceso de entrenamiento consiste en presentar a la red un número dado de veces ($num_{epochs}$) los datos de entrenamiento para que esta vaya ajustando sus pesos.\n",
        "\n",
        "Después de cada ciclo de entrenamiento se evalúa la salida predicha por el modelo, es decir, se calcula el error cometido entre la predicción y la clase real conocida, tanto con los datos de entrenamiento como con los datos de test.\n",
        "\n",
        "Del siguiente código lo importante es que se familiarice con el proceso de entrenamiento de la red. Es decir, la propagación hacia adelante, el cálculo del error y la propagación hacia atrás de los errores para ajustar los pesos."
      ]
    },
    {
      "cell_type": "code",
      "execution_count": 35,
      "metadata": {
        "id": "EFAoJHC3tS6C"
      },
      "outputs": [
        {
          "name": "stderr",
          "output_type": "stream",
          "text": [
            " 10%|█         | 1/10 [00:07<01:04,  7.19s/it]"
          ]
        },
        {
          "name": "stdout",
          "output_type": "stream",
          "text": [
            "Epoch: 0 | CrossEntropyLoss: 1.6117 | Train Accuracy: 0.7717 | Validation Accuracy: 0.8498\n"
          ]
        },
        {
          "name": "stderr",
          "output_type": "stream",
          "text": [
            " 20%|██        | 2/10 [00:11<00:46,  5.77s/it]"
          ]
        },
        {
          "name": "stdout",
          "output_type": "stream",
          "text": [
            "Epoch: 1 | CrossEntropyLoss: 1.5493 | Train Accuracy: 0.8961 | Validation Accuracy: 0.9283\n"
          ]
        },
        {
          "name": "stderr",
          "output_type": "stream",
          "text": [
            " 30%|███       | 3/10 [00:17<00:40,  5.76s/it]"
          ]
        },
        {
          "name": "stdout",
          "output_type": "stream",
          "text": [
            "Epoch: 2 | CrossEntropyLoss: 1.5438 | Train Accuracy: 0.9373 | Validation Accuracy: 0.9415\n"
          ]
        },
        {
          "name": "stderr",
          "output_type": "stream",
          "text": [
            " 40%|████      | 4/10 [00:25<00:39,  6.61s/it]"
          ]
        },
        {
          "name": "stdout",
          "output_type": "stream",
          "text": [
            "Epoch: 3 | CrossEntropyLoss: 1.4890 | Train Accuracy: 0.9482 | Validation Accuracy: 0.9519\n"
          ]
        },
        {
          "name": "stderr",
          "output_type": "stream",
          "text": [
            " 50%|█████     | 5/10 [00:32<00:34,  6.82s/it]"
          ]
        },
        {
          "name": "stdout",
          "output_type": "stream",
          "text": [
            "Epoch: 4 | CrossEntropyLoss: 1.4923 | Train Accuracy: 0.9564 | Validation Accuracy: 0.9546\n"
          ]
        },
        {
          "name": "stderr",
          "output_type": "stream",
          "text": [
            " 60%|██████    | 6/10 [00:43<00:31,  7.97s/it]"
          ]
        },
        {
          "name": "stdout",
          "output_type": "stream",
          "text": [
            "Epoch: 5 | CrossEntropyLoss: 1.4860 | Train Accuracy: 0.9617 | Validation Accuracy: 0.9612\n"
          ]
        },
        {
          "name": "stderr",
          "output_type": "stream",
          "text": [
            " 70%|███████   | 7/10 [00:52<00:25,  8.47s/it]"
          ]
        },
        {
          "name": "stdout",
          "output_type": "stream",
          "text": [
            "Epoch: 6 | CrossEntropyLoss: 1.4714 | Train Accuracy: 0.9660 | Validation Accuracy: 0.9639\n"
          ]
        },
        {
          "name": "stderr",
          "output_type": "stream",
          "text": [
            " 80%|████████  | 8/10 [01:03<00:18,  9.15s/it]"
          ]
        },
        {
          "name": "stdout",
          "output_type": "stream",
          "text": [
            "Epoch: 7 | CrossEntropyLoss: 1.5139 | Train Accuracy: 0.9697 | Validation Accuracy: 0.9663\n"
          ]
        },
        {
          "name": "stderr",
          "output_type": "stream",
          "text": [
            " 90%|█████████ | 9/10 [01:14<00:09,  9.70s/it]"
          ]
        },
        {
          "name": "stdout",
          "output_type": "stream",
          "text": [
            "Epoch: 8 | CrossEntropyLoss: 1.4775 | Train Accuracy: 0.9721 | Validation Accuracy: 0.9682\n"
          ]
        },
        {
          "name": "stderr",
          "output_type": "stream",
          "text": [
            "100%|██████████| 10/10 [01:19<00:00,  7.95s/it]"
          ]
        },
        {
          "name": "stdout",
          "output_type": "stream",
          "text": [
            "Epoch: 9 | CrossEntropyLoss: 1.4907 | Train Accuracy: 0.9746 | Validation Accuracy: 0.9694\n"
          ]
        },
        {
          "name": "stderr",
          "output_type": "stream",
          "text": [
            "\n"
          ]
        }
      ],
      "source": [
        "lossTrain_list         = []\n",
        "lossVal_list      = []\n",
        "accTrain_list     = []\n",
        "accVal_list       = []\n",
        "num_epochs = 10\n",
        "\n",
        "for epoch in tqdm(range(num_epochs)):\n",
        "    Ntrain=0   #numero total de datos de entrenamiento\n",
        "    correct=0\n",
        "    # ENTRENAMIENTO con datos de TRAIN\n",
        "\n",
        "    for images, targets in train_loader:\n",
        "        optimizer.zero_grad()                      # 1. Inicializa gradiente\n",
        "        outputs = model(images)                    # 2. Propagación hacia adelante. Obtención de la salida\n",
        "        loss = lossFun(outputs, targets)           # 3. Cálculo del error\n",
        "        loss.backward()                            # 4. Propagación hacia atrás de los errores.\n",
        "        optimizer.step()                           #    Actualiza parámetros.\n",
        "\n",
        "        predicted = torch.argmax(outputs.data, 1)  # salida predicha\n",
        "        Ntrain += len(targets)                     # total datos de entrenamiento\n",
        "        correct += (predicted == targets).sum()    # número de predicciones correctas\n",
        "\n",
        "    # calcula Accuracy o precisión de entrenamiento\n",
        "    accTrain = float(correct) / float(Ntrain)\n",
        "    # guarda resultados de cada epoch\n",
        "    lossTrain_list.append(loss.item())\n",
        "    accTrain_list.append(accTrain)\n",
        "\n",
        "    # VALIDACIÓN con los datos de TEST\n",
        "    correct = 0\n",
        "    NVal  = 0\n",
        "    with torch.no_grad():\n",
        "        for images, targets in test_loader:\n",
        "            outputs = model(images)                     # Aplica Modelo a datos de Test\n",
        "            lossVal    = lossFun(outputs, targets)\n",
        "            predicted = torch.max(outputs.data, 1)[1]   # salida calculada\n",
        "            NVal += len(targets)                        # total datos de test\n",
        "            correct += (predicted == targets).sum()     # número de predicciones incorrectas\n",
        "\n",
        "    # calcula la precisión de Validación\n",
        "    accVal = float(correct) / float(NVal)\n",
        "    accVal_list.append(accVal)\n",
        "    lossVal_list.append(lossVal.item())\n",
        "\n",
        "    #Resultados por epoch\n",
        "    print(f'Epoch: {epoch} | CrossEntropyLoss: {loss.data:.4f} | Train Accuracy: {accTrain:.4f} | Validation Accuracy: {accVal:.4f}')"
      ]
    },
    {
      "cell_type": "markdown",
      "metadata": {
        "id": "h25OMWvozblo"
      },
      "source": [
        "# 4. Visualización de resultados\n",
        "\n"
      ]
    },
    {
      "cell_type": "code",
      "execution_count": 36,
      "metadata": {
        "id": "5gdKRRBmzeVH"
      },
      "outputs": [
        {
          "data": {
            "image/png": "[encoded data removed]",
            "text/plain": [
              "<Figure size 640x480 with 1 Axes>"
            ]
          },
          "metadata": {},
          "output_type": "display_data"
        }
      ],
      "source": [
        "sns.lineplot(x=list(range(num_epochs)), y=accVal_list, label=\"Validation\")\n",
        "sns.lineplot(x=list(range(num_epochs)), y=accTrain_list, label=\"Train\")\n",
        "plt.legend()\n",
        "plt.xlabel(\"Epoch\")\n",
        "plt.ylabel(\"Accuracy\")\n",
        "plt.title(\"Validation versus Train Accuracy\")\n",
        "plt.show()"
      ]
    },
    {
      "cell_type": "code",
      "execution_count": 37,
      "metadata": {
        "id": "Jx0JB3QcVlQs"
      },
      "outputs": [
        {
          "data": {
            "image/png": "[encoded data removed]",
            "text/plain": [
              "<Figure size 640x480 with 1 Axes>"
            ]
          },
          "metadata": {},
          "output_type": "display_data"
        }
      ],
      "source": [
        "sns.lineplot(x=range(num_epochs), y=lossVal_list, label=\"Validation\")\n",
        "sns.lineplot(x=range(num_epochs), y=lossTrain_list, label=\"Train\")\n",
        "plt.legend()\n",
        "plt.xlabel(\"Epoch\")\n",
        "plt.ylabel(\"Cross Entropy Loss\")\n",
        "plt.title(\"Validation versus Train Loss\")\n",
        "plt.show()"
      ]
    },
    {
      "cell_type": "markdown",
      "metadata": {
        "id": "slauPgoBC-po"
      },
      "source": [
        "# Taller"
      ]
    },
    {
      "cell_type": "code",
      "execution_count": 16,
      "metadata": {
        "id": "p2-0GOVMC-po"
      },
      "outputs": [],
      "source": [
        "# No le preste atención a esta función. De momento, simplemente ejececute esta celda.\n",
        "def Imagen(imagen, param = False):\n",
        "    imagen = ImageOps.grayscale(imagen)\n",
        "    if param == True:\n",
        "        imagen = ImageOps.invert(imagen)\n",
        "    imagen = np.array(imagen)\n",
        "    imagen = torch.Tensor(imagen).view(-1, 784)\n",
        "    return imagen"
      ]
    },
    {
      "cell_type": "markdown",
      "metadata": {
        "id": "WMxVr56fC-po"
      },
      "source": [
        "Tiene a su disposición en el campus virtual un conjunto de dígitos manuscritos que no se encuentran en el conjunto original del MNIST. Suba el zip mediante el menú desplegable de la izquierda y tras esto, ejecute la siguiente celda. Así, se descomprimirá la carpeta de las imágenes en su directorio de trabajo."
      ]
    },
    {
      "cell_type": "code",
      "execution_count": 18,
      "metadata": {
        "id": "oY2yOzRKC-po"
      },
      "outputs": [
        {
          "name": "stdout",
          "output_type": "stream",
          "text": [
            "Archive:  MNIST.zip\n",
            "   creating: Imagenes/\n",
            "  inflating: Imagenes/0.tif          \n",
            "  inflating: Imagenes/1.tif          \n",
            "  inflating: Imagenes/2.tif          \n",
            "  inflating: Imagenes/3.tif          \n",
            "  inflating: Imagenes/4.tif          \n",
            "  inflating: Imagenes/5.tif          \n",
            "  inflating: Imagenes/6.tif          \n",
            "  inflating: Imagenes/7.tif          \n",
            "  inflating: Imagenes/8.tif          \n",
            "  inflating: Imagenes/9.tif          \n"
          ]
        }
      ],
      "source": [
        "!unzip MNIST.zip"
      ]
    },
    {
      "cell_type": "markdown",
      "metadata": {
        "id": "3EAMvDA6C-po"
      },
      "source": [
        "¿Considera que funcionará mejor o peor? Teniendo en cuenta que se han obtenido valores de exactitud por encima del $90\\%$, debería funcionar igual de bien, ¿verdad? Sin embargo, comprobará que en la práctica no tiene por qué ser así.\n",
        "\n",
        "Para ello, es importante tener en cuenta cómo ha sido entrenada la red. Si ejecuta el código expuesto abajo, ¿qué valor de exactitud obtiene? ¿Era el esperado?"
      ]
    },
    {
      "cell_type": "code",
      "execution_count": 38,
      "metadata": {
        "id": "DmxNQlvXC-pr"
      },
      "outputs": [
        {
          "name": "stdout",
          "output_type": "stream",
          "text": [
            "Imagenes/6.tif\n",
            "Imagenes/7.tif\n",
            "Imagenes/1.tif\n",
            "Imagenes/9.tif\n",
            "Imagenes/4.tif\n",
            "Imagenes/2.tif\n",
            "Imagenes/0.tif\n",
            "Imagenes/8.tif\n",
            "Imagenes/3.tif\n",
            "Imagenes/5.tif\n"
          ]
        },
        {
          "data": {
            "image/png": "[encoded data removed]",
            "text/plain": [
              "<Figure size 1200x400 with 10 Axes>"
            ]
          },
          "metadata": {},
          "output_type": "display_data"
        }
      ],
      "source": [
        "aciertos = []\n",
        "Nsubplots=10 #Dividir en el número de imágenes que queramos mostrar en una fila\n",
        "fig, ax = plt.subplots(1, Nsubplots, figsize=(12, 4), tight_layout=True)\n",
        "idx = np.random.choice(len(train_set), Nsubplots) # Se seleccionan de forma aleatoria 8 índices\n",
        "\n",
        "k = 0\n",
        "for path in Path(\"Imagenes\").rglob(\"*.tif\"):\n",
        "    print(path)\n",
        "\n",
        "    imagen = Image.open(path)\n",
        "    target = str(path).split(\"\\\\\")[-1]\n",
        "    target = re.search('\\d', target)[0]\n",
        "\n",
        "    imagen = Imagen(imagen)\n",
        "    y_hat = model(imagen)\n",
        "    y_hat = torch.argmax(y_hat)\n",
        "    aciertos.append(int(y_hat == int(target)))\n",
        "    ax[k%len(ax)].imshow(imagen.view(28,28).numpy(), cmap=\"Greys_r\")\n",
        "    ax[k%len(ax)].axis('off') # Se eliminan los ejes para que sólo se vean los números.\n",
        "    ax[k%len(ax)].set_title(str(y_hat.item()))\n",
        "    k += 1\n"
      ]
    },
    {
      "cell_type": "markdown",
      "metadata": {
        "id": "gnYZHzMAC-pr"
      },
      "source": [
        "Abra una aplicación como puede ser Paint, Gimp o similar. Pruebe a dibujar varios de los números que se intentan clasificar. Para nombrar a los ficheros, incluya al menos el número a predecir en el nombre del archivo. Ese nombre se tomará para determinar la clase de la imagen. Puede crear una carpeta propia \"Imagenes2\". Si no tiene suficientes, puede pedirle a su compañero que le facilite los números que ha creado."
      ]
    },
    {
      "cell_type": "code",
      "execution_count": 39,
      "metadata": {
        "id": "xEKX0yMKC-ps"
      },
      "outputs": [
        {
          "name": "stdout",
          "output_type": "stream",
          "text": [
            "Imagenes2/3.png\n",
            "Imagenes2/9.png\n",
            "Imagenes2/7.png\n",
            "Imagenes2/2.png\n",
            "Imagenes2/5.png\n",
            "Imagenes2/1.png\n",
            "Imagenes2/4.png\n",
            "Imagenes2/8.png\n",
            "Imagenes2/6.png\n",
            "Imagenes2/0.png\n"
          ]
        },
        {
          "data": {
            "image/png": "[encoded data removed]",
            "text/plain": [
              "<Figure size 1200x400 with 10 Axes>"
            ]
          },
          "metadata": {},
          "output_type": "display_data"
        }
      ],
      "source": [
        "aciertos = []\n",
        "Nsubplots=10 #Dividir en el número de imágenes que queramos mostrar en una fila\n",
        "fig, ax = plt.subplots(1, Nsubplots, figsize=(12, 4), tight_layout=True)\n",
        "idx = np.random.choice(len(train_set), Nsubplots) # Se seleccionan de forma aleatoria 8 índices\n",
        "\n",
        "k = 0\n",
        "for path in Path(\"Imagenes2\").rglob(\"*.png\"):\n",
        "    print(path)\n",
        "\n",
        "    imagen = Image.open(path)\n",
        "    target = str(path).split(\"\\\\\")[-1]\n",
        "    target = re.search('\\d', target)[0]\n",
        "\n",
        "    imagen = Imagen(imagen)\n",
        "    y_hat = model(imagen)\n",
        "    y_hat = torch.argmax(y_hat)\n",
        "    aciertos.append(int(y_hat == int(target)))\n",
        "    ax[k%len(ax)].imshow(imagen.view(28,28).numpy(), cmap=\"Greys_r\")\n",
        "    ax[k%len(ax)].axis('off') # Se eliminan los ejes para que sólo se vean los números.\n",
        "    ax[k%len(ax)].set_title(str(y_hat.item()))\n",
        "    k += 1\n"
      ]
    },
    {
      "cell_type": "markdown",
      "metadata": {
        "id": "h05kmHNZC-ps"
      },
      "source": [
        "¿Sigue ocurriendo lo mismo?"
      ]
    },
    {
      "cell_type": "code",
      "execution_count": null,
      "metadata": {
        "id": "9zEspJDtC-ps"
      },
      "outputs": [],
      "source": [
        "#Si, pues se ha entrenado con fondo negro y número en blanco."
      ]
    },
    {
      "cell_type": "code",
      "execution_count": null,
      "metadata": {
        "id": "OFozh_35C-ps"
      },
      "outputs": [],
      "source": []
    },
    {
      "cell_type": "markdown",
      "metadata": {
        "id": "epAx2MzkC-ps"
      },
      "source": [
        "¿Qué ocurre si a la función de Imagen le pasa como parámetro un _True_? ¿Se obtiene el mismo resultado?"
      ]
    },
    {
      "cell_type": "code",
      "execution_count": 40,
      "metadata": {
        "id": "D2UjSzYCC-ps"
      },
      "outputs": [
        {
          "name": "stdout",
          "output_type": "stream",
          "text": [
            "Imagenes2/3.png\n",
            "Imagenes2/9.png\n",
            "Imagenes2/7.png\n",
            "Imagenes2/2.png\n",
            "Imagenes2/5.png\n",
            "Imagenes2/1.png\n",
            "Imagenes2/4.png\n",
            "Imagenes2/8.png\n",
            "Imagenes2/6.png\n",
            "Imagenes2/0.png\n"
          ]
        },
        {
          "data": {
            "image/png": "[encoded data removed]",
            "text/plain": [
              "<Figure size 1200x400 with 10 Axes>"
            ]
          },
          "metadata": {},
          "output_type": "display_data"
        }
      ],
      "source": [
        "aciertos = []\n",
        "Nsubplots=10#Dividir en el número de imágenes que queramos mostrar en una fila\n",
        "fig, ax = plt.subplots(1, Nsubplots, figsize=(12, 4), tight_layout=True)\n",
        "idx = np.random.choice(len(train_set), Nsubplots) # Se seleccionan de forma aleatoria 8 índices\n",
        "\n",
        "k = 0\n",
        "for path in Path(\"Imagenes2\").rglob(\"*.png\"):\n",
        "    print(path)\n",
        "\n",
        "    imagen = Image.open(path)\n",
        "    target = str(path).split(\"\\\\\")[-1]\n",
        "    target = re.search('\\d', target)[0]\n",
        "\n",
        "    imagen = Imagen(imagen, True)\n",
        "    y_hat = model(imagen)\n",
        "    y_hat = torch.argmax(y_hat)\n",
        "    aciertos.append(int(y_hat == int(target)))\n",
        "    ax[k%len(ax)].imshow(imagen.view(28,28).numpy(), cmap=\"Greys_r\")\n",
        "    ax[k%len(ax)].axis('off') # Se eliminan los ejes para que sólo se vean los números.\n",
        "    ax[k%len(ax)].set_title(str(y_hat.item()))\n",
        "    k += 1\n"
      ]
    },
    {
      "cell_type": "markdown",
      "metadata": {
        "id": "7XKbLpYsC-ps"
      },
      "source": [
        "¿Recuerda qué forma tenían los datos de entrenamiento? Cómo funcione el modelo depende de cómo haya sido entrenado y, por eso suele ser necesario realizar un procesamiento previo de los datos, como en este caso. Si la red neuronal se ha entrenado con el fondo negro y los números en blanco, la entrada debe seguir el mismo formato, si no, como en el caso anterior, la red no funcionará como se espera.\n"
      ]
    },
    {
      "cell_type": "markdown",
      "metadata": {
        "id": "UA5zavInZHHO"
      },
      "source": [
        "## MATRIZ DE CONFUSIÓN"
      ]
    },
    {
      "cell_type": "code",
      "execution_count": 41,
      "metadata": {
        "id": "CfVxzuNiZTta"
      },
      "outputs": [
        {
          "name": "stdout",
          "output_type": "stream",
          "text": [
            "Requirement already satisfied: torchmetrics in /home/javier/Documentos/3ro Primer Cuatri/Inteligencia Artifical/Prácticas/Prácticas Python/.venv/lib/python3.10/site-packages (1.6.0)\n",
            "Requirement already satisfied: numpy>1.20.0 in /home/javier/Documentos/3ro Primer Cuatri/Inteligencia Artifical/Prácticas/Prácticas Python/.venv/lib/python3.10/site-packages (from torchmetrics) (2.1.3)\n",
            "Requirement already satisfied: packaging>17.1 in /home/javier/Documentos/3ro Primer Cuatri/Inteligencia Artifical/Prácticas/Prácticas Python/.venv/lib/python3.10/site-packages (from torchmetrics) (24.2)\n",
            "Requirement already satisfied: torch>=2.0.0 in /home/javier/Documentos/3ro Primer Cuatri/Inteligencia Artifical/Prácticas/Prácticas Python/.venv/lib/python3.10/site-packages (from torchmetrics) (2.5.1+cpu)\n",
            "Requirement already satisfied: lightning-utilities>=0.8.0 in /home/javier/Documentos/3ro Primer Cuatri/Inteligencia Artifical/Prácticas/Prácticas Python/.venv/lib/python3.10/site-packages (from torchmetrics) (0.11.9)\n",
            "Requirement already satisfied: setuptools in /home/javier/Documentos/3ro Primer Cuatri/Inteligencia Artifical/Prácticas/Prácticas Python/.venv/lib/python3.10/site-packages (from lightning-utilities>=0.8.0->torchmetrics) (75.6.0)\n",
            "Requirement already satisfied: typing-extensions in /home/javier/Documentos/3ro Primer Cuatri/Inteligencia Artifical/Prácticas/Prácticas Python/.venv/lib/python3.10/site-packages (from lightning-utilities>=0.8.0->torchmetrics) (4.9.0)\n",
            "Requirement already satisfied: filelock in /home/javier/Documentos/3ro Primer Cuatri/Inteligencia Artifical/Prácticas/Prácticas Python/.venv/lib/python3.10/site-packages (from torch>=2.0.0->torchmetrics) (3.13.1)\n",
            "Requirement already satisfied: networkx in /home/javier/Documentos/3ro Primer Cuatri/Inteligencia Artifical/Prácticas/Prácticas Python/.venv/lib/python3.10/site-packages (from torch>=2.0.0->torchmetrics) (3.2.1)\n",
            "Requirement already satisfied: jinja2 in /home/javier/Documentos/3ro Primer Cuatri/Inteligencia Artifical/Prácticas/Prácticas Python/.venv/lib/python3.10/site-packages (from torch>=2.0.0->torchmetrics) (3.1.3)\n",
            "Requirement already satisfied: fsspec in /home/javier/Documentos/3ro Primer Cuatri/Inteligencia Artifical/Prácticas/Prácticas Python/.venv/lib/python3.10/site-packages (from torch>=2.0.0->torchmetrics) (2024.2.0)\n",
            "Requirement already satisfied: sympy==1.13.1 in /home/javier/Documentos/3ro Primer Cuatri/Inteligencia Artifical/Prácticas/Prácticas Python/.venv/lib/python3.10/site-packages (from torch>=2.0.0->torchmetrics) (1.13.1)\n",
            "Requirement already satisfied: mpmath<1.4,>=1.1.0 in /home/javier/Documentos/3ro Primer Cuatri/Inteligencia Artifical/Prácticas/Prácticas Python/.venv/lib/python3.10/site-packages (from sympy==1.13.1->torch>=2.0.0->torchmetrics) (1.3.0)\n",
            "Requirement already satisfied: MarkupSafe>=2.0 in /home/javier/Documentos/3ro Primer Cuatri/Inteligencia Artifical/Prácticas/Prácticas Python/.venv/lib/python3.10/site-packages (from jinja2->torch>=2.0.0->torchmetrics) (2.1.5)\n"
          ]
        }
      ],
      "source": [
        "!pip install torchmetrics"
      ]
    },
    {
      "cell_type": "markdown",
      "metadata": {
        "id": "DjRCPVTQC-pt"
      },
      "source": [
        "Vea ahora las siguientes celdas. En ellas se muestra cuántas imágenes hay de una clase en concreta, en primer lugar para el conjunto de entrenamiento y, posteriormente para el conjunto de test"
      ]
    },
    {
      "cell_type": "code",
      "execution_count": 42,
      "metadata": {
        "id": "ZWtfJdh_C-pt"
      },
      "outputs": [
        {
          "name": "stdout",
          "output_type": "stream",
          "text": [
            "De la clase 0 existen 5923 imágenes\n",
            "De la clase 1 existen 6742 imágenes\n",
            "De la clase 2 existen 5958 imágenes\n",
            "De la clase 3 existen 6131 imágenes\n",
            "De la clase 4 existen 5842 imágenes\n",
            "De la clase 5 existen 5421 imágenes\n",
            "De la clase 6 existen 5918 imágenes\n",
            "De la clase 7 existen 6265 imágenes\n",
            "De la clase 8 existen 5851 imágenes\n",
            "De la clase 9 existen 5949 imágenes\n"
          ]
        }
      ],
      "source": [
        "valor, freq = np.unique(train_set.targets.numpy(), return_counts=True)\n",
        "for pair in zip(valor, freq):\n",
        "    print(f\"De la clase {pair[0]} existen {pair[1]} imágenes\")"
      ]
    },
    {
      "cell_type": "code",
      "execution_count": 43,
      "metadata": {
        "id": "GmMKm8-3C-pt"
      },
      "outputs": [
        {
          "name": "stdout",
          "output_type": "stream",
          "text": [
            "De la clase 0 existen 980 imágenes\n",
            "De la clase 1 existen 1135 imágenes\n",
            "De la clase 2 existen 1032 imágenes\n",
            "De la clase 3 existen 1010 imágenes\n",
            "De la clase 4 existen 982 imágenes\n",
            "De la clase 5 existen 892 imágenes\n",
            "De la clase 6 existen 958 imágenes\n",
            "De la clase 7 existen 1028 imágenes\n",
            "De la clase 8 existen 974 imágenes\n",
            "De la clase 9 existen 1009 imágenes\n"
          ]
        }
      ],
      "source": [
        "valor, freq = np.unique(test_set.targets.numpy(), return_counts=True)\n",
        "for pair in zip(valor, freq):\n",
        "    print(f\"De la clase {pair[0]} existen {pair[1]} imágenes\")"
      ]
    },
    {
      "cell_type": "markdown",
      "metadata": {
        "id": "JzSmwG-0C-pt"
      },
      "source": [
        "¿Considera que las clases están balanceadas?"
      ]
    },
    {
      "cell_type": "markdown",
      "metadata": {
        "id": "Hkrhx7FcC-pu"
      },
      "source": [
        "Si, están balanceadas aproximadamente, lo cual favorece menos el overfittin"
      ]
    },
    {
      "cell_type": "code",
      "execution_count": 44,
      "metadata": {
        "id": "MgeAwVdIZGrS"
      },
      "outputs": [
        {
          "name": "stdout",
          "output_type": "stream",
          "text": [
            "Porcentaje de patrones bien clasificados (Accuracy): 96.94%\n"
          ]
        },
        {
          "name": "stderr",
          "output_type": "stream",
          "text": [
            "/tmp/ipykernel_5502/1779733338.py:32: DeprecationWarning: __array__ implementation doesn't accept a copy keyword, so passing copy=False failed. __array__ must implement 'dtype' and 'copy' keyword arguments.\n",
            "  confmat = np.array(confmat(predicted, targets))\n"
          ]
        },
        {
          "data": {
            "text/html": [
              "<div>\n",
              "<style scoped>\n",
              "    .dataframe tbody tr th:only-of-type {\n",
              "        vertical-align: middle;\n",
              "    }\n",
              "\n",
              "    .dataframe tbody tr th {\n",
              "        vertical-align: top;\n",
              "    }\n",
              "\n",
              "    .dataframe thead th {\n",
              "        text-align: right;\n",
              "    }\n",
              "</style>\n",
              "<table border=\"1\" class=\"dataframe\">\n",
              "  <thead>\n",
              "    <tr style=\"text-align: right;\">\n",
              "      <th></th>\n",
              "      <th>0</th>\n",
              "      <th>1</th>\n",
              "      <th>2</th>\n",
              "      <th>3</th>\n",
              "      <th>4</th>\n",
              "      <th>5</th>\n",
              "      <th>6</th>\n",
              "      <th>7</th>\n",
              "      <th>8</th>\n",
              "      <th>9</th>\n",
              "    </tr>\n",
              "  </thead>\n",
              "  <tbody>\n",
              "    <tr>\n",
              "      <th>0</th>\n",
              "      <td>965</td>\n",
              "      <td>0</td>\n",
              "      <td>2</td>\n",
              "      <td>3</td>\n",
              "      <td>0</td>\n",
              "      <td>3</td>\n",
              "      <td>2</td>\n",
              "      <td>2</td>\n",
              "      <td>3</td>\n",
              "      <td>0</td>\n",
              "    </tr>\n",
              "    <tr>\n",
              "      <th>1</th>\n",
              "      <td>0</td>\n",
              "      <td>1113</td>\n",
              "      <td>3</td>\n",
              "      <td>4</td>\n",
              "      <td>0</td>\n",
              "      <td>1</td>\n",
              "      <td>4</td>\n",
              "      <td>2</td>\n",
              "      <td>8</td>\n",
              "      <td>0</td>\n",
              "    </tr>\n",
              "    <tr>\n",
              "      <th>2</th>\n",
              "      <td>7</td>\n",
              "      <td>1</td>\n",
              "      <td>998</td>\n",
              "      <td>5</td>\n",
              "      <td>5</td>\n",
              "      <td>0</td>\n",
              "      <td>2</td>\n",
              "      <td>7</td>\n",
              "      <td>7</td>\n",
              "      <td>0</td>\n",
              "    </tr>\n",
              "    <tr>\n",
              "      <th>3</th>\n",
              "      <td>1</td>\n",
              "      <td>0</td>\n",
              "      <td>2</td>\n",
              "      <td>978</td>\n",
              "      <td>0</td>\n",
              "      <td>5</td>\n",
              "      <td>1</td>\n",
              "      <td>9</td>\n",
              "      <td>6</td>\n",
              "      <td>8</td>\n",
              "    </tr>\n",
              "    <tr>\n",
              "      <th>4</th>\n",
              "      <td>1</td>\n",
              "      <td>0</td>\n",
              "      <td>5</td>\n",
              "      <td>0</td>\n",
              "      <td>957</td>\n",
              "      <td>0</td>\n",
              "      <td>2</td>\n",
              "      <td>3</td>\n",
              "      <td>2</td>\n",
              "      <td>12</td>\n",
              "    </tr>\n",
              "    <tr>\n",
              "      <th>5</th>\n",
              "      <td>6</td>\n",
              "      <td>1</td>\n",
              "      <td>0</td>\n",
              "      <td>5</td>\n",
              "      <td>2</td>\n",
              "      <td>854</td>\n",
              "      <td>9</td>\n",
              "      <td>1</td>\n",
              "      <td>9</td>\n",
              "      <td>5</td>\n",
              "    </tr>\n",
              "    <tr>\n",
              "      <th>6</th>\n",
              "      <td>6</td>\n",
              "      <td>2</td>\n",
              "      <td>1</td>\n",
              "      <td>1</td>\n",
              "      <td>7</td>\n",
              "      <td>4</td>\n",
              "      <td>931</td>\n",
              "      <td>1</td>\n",
              "      <td>5</td>\n",
              "      <td>0</td>\n",
              "    </tr>\n",
              "    <tr>\n",
              "      <th>7</th>\n",
              "      <td>0</td>\n",
              "      <td>6</td>\n",
              "      <td>16</td>\n",
              "      <td>3</td>\n",
              "      <td>2</td>\n",
              "      <td>1</td>\n",
              "      <td>0</td>\n",
              "      <td>994</td>\n",
              "      <td>2</td>\n",
              "      <td>4</td>\n",
              "    </tr>\n",
              "    <tr>\n",
              "      <th>8</th>\n",
              "      <td>4</td>\n",
              "      <td>1</td>\n",
              "      <td>2</td>\n",
              "      <td>6</td>\n",
              "      <td>4</td>\n",
              "      <td>3</td>\n",
              "      <td>5</td>\n",
              "      <td>5</td>\n",
              "      <td>940</td>\n",
              "      <td>4</td>\n",
              "    </tr>\n",
              "    <tr>\n",
              "      <th>9</th>\n",
              "      <td>4</td>\n",
              "      <td>4</td>\n",
              "      <td>1</td>\n",
              "      <td>10</td>\n",
              "      <td>12</td>\n",
              "      <td>2</td>\n",
              "      <td>1</td>\n",
              "      <td>4</td>\n",
              "      <td>7</td>\n",
              "      <td>964</td>\n",
              "    </tr>\n",
              "  </tbody>\n",
              "</table>\n",
              "</div>"
            ],
            "text/plain": [
              "     0     1    2    3    4    5    6    7    8    9\n",
              "0  965     0    2    3    0    3    2    2    3    0\n",
              "1    0  1113    3    4    0    1    4    2    8    0\n",
              "2    7     1  998    5    5    0    2    7    7    0\n",
              "3    1     0    2  978    0    5    1    9    6    8\n",
              "4    1     0    5    0  957    0    2    3    2   12\n",
              "5    6     1    0    5    2  854    9    1    9    5\n",
              "6    6     2    1    1    7    4  931    1    5    0\n",
              "7    0     6   16    3    2    1    0  994    2    4\n",
              "8    4     1    2    6    4    3    5    5  940    4\n",
              "9    4     4    1   10   12    2    1    4    7  964"
            ]
          },
          "execution_count": 44,
          "metadata": {},
          "output_type": "execute_result"
        }
      ],
      "source": [
        "from torchmetrics import ConfusionMatrix\n",
        "\n",
        "total = 0\n",
        "correct = 0\n",
        "\n",
        "test_loader = torch.utils.data.DataLoader(test_set,\n",
        "                 batch_size=10000,\n",
        "                 shuffle=False,\n",
        "                 drop_last=False)\n",
        "\n",
        "for images, targets in test_loader:\n",
        "    #convierte datos del tensor a variables del auto-grad\n",
        "    images = Variable(images)\n",
        "    targets = Variable(targets)\n",
        "\n",
        "    # forward pass\n",
        "    outTest = model(images.view(images.size(0), -1))\n",
        "\n",
        "    # calculate total accuracy\n",
        "    predicted = torch.max(outTest.data, 1)[1]\n",
        "    #predicted = outTest.sum(dim=0).max(1)\n",
        "    total += targets.size(0)\n",
        "    correct += (predicted == targets).sum().item()\n",
        "    confmat = ConfusionMatrix(task=\"multiclass\",num_classes=10)\n",
        "    confmat(predicted, targets)\n",
        "\n",
        "\n",
        "\n",
        "print(f\"Porcentaje de patrones bien clasificados (Accuracy): {100 * correct / total:.2f}%\")\n",
        "\n",
        "confmat = ConfusionMatrix(task=\"multiclass\",num_classes=10)\n",
        "confmat = np.array(confmat(predicted, targets))\n",
        "pd.DataFrame(confmat)"
      ]
    },
    {
      "cell_type": "markdown",
      "metadata": {
        "id": "lELzXC3IC-pu"
      },
      "source": [
        "En función de esa tabla que representa la matriz de confusión. ¿Qué número cree que es capaz de predecir mejor la red? ¿Y peor? ¿Cómo se podría extraer esa información?"
      ]
    },
    {
      "cell_type": "markdown",
      "metadata": {
        "id": "WRArTAtqC-pu"
      },
      "source": [
        "Aproximadamente predice todos igual de bien, aunque si hubiera que decir el mejor sería el 1 y el peor es el 9. Dividiendo el número de verdaderos positivos entre imágenes totales."
      ]
    },
    {
      "cell_type": "markdown",
      "metadata": {
        "id": "jtF3BV8EC-pu"
      },
      "source": [
        "Para repasar los conceptos que se han visto en clase, le recomendamos visitar la siguiente dirección [Playground de Tensorflow](https://playground.tensorflow.org/) Aquí podrá ver varios ejemplos y podrá interactuar sin tener que implementar nada. Familiarícese con algunos ejemplos y compruebe si las distintas pruebas que realiza, se corresponden con lo que esperaba para cada uno de ellos."
      ]
    },
    {
      "cell_type": "markdown",
      "metadata": {
        "id": "pOtkh43ednV5"
      },
      "source": [
        "# PRÁCTICAS\n",
        "1. Entrena durante más epochs, por ejemplo 100 y visualiza los resultados.\n",
        "2. Cambia el número de capas (1 o 2) y el número de unidades ocultas:\n",
        "  A) 25 unidades ocultas\n",
        "  B) 500 unidades ocultas\n",
        "  Compara los resultados entre los distintos modelos en función de la precisión de los resultados."
      ]
    },
    {
      "cell_type": "markdown",
      "metadata": {
        "id": "1d6nvvqxczK4"
      },
      "source": [
        "### UTILIDADES para guardar datos del entrenamiento\n",
        "\n",
        "¿Qué ocurre cuando tenemos un modelo entrenado y queremos volver a utilizarlo? ¿Debemos entrenar el modelo de nuevo cada vez que se quiera hacer una predicción? No, no hace falta. Basta con guardar los parámetros que definen el modelo, como los pesos o los bias. A partir de ahí, es posible cargar el modelo y comenzar a hacer predicciones con el modelo ya entrenado.\n",
        "\n",
        "Esto resulta de gran utilidad para, por ejemplo, llevar un modelo a un producto final, como puede ser una aplicación web, una app móvil, un modelo de detección de SPAM, etc."
      ]
    },
    {
      "cell_type": "code",
      "execution_count": 47,
      "metadata": {
        "id": "XPdbsHpRcdy0"
      },
      "outputs": [],
      "source": [
        "torch.save(model.state_dict(), 'MODELO CON 128 UNIDADES') # es necesario especificar un path"
      ]
    },
    {
      "cell_type": "code",
      "execution_count": 48,
      "metadata": {
        "id": "vOATQwD_dHFx"
      },
      "outputs": [
        {
          "name": "stderr",
          "output_type": "stream",
          "text": [
            "/tmp/ipykernel_5502/3662397257.py:2: FutureWarning: You are using `torch.load` with `weights_only=False` (the current default value), which uses the default pickle module implicitly. It is possible to construct malicious pickle data which will execute arbitrary code during unpickling (See https://github.com/pytorch/pytorch/blob/main/SECURITY.md#untrusted-models for more details). In a future release, the default value for `weights_only` will be flipped to `True`. This limits the functions that could be executed during unpickling. Arbitrary objects will no longer be allowed to be loaded via this mode unless they are explicitly allowlisted by the user via `torch.serialization.add_safe_globals`. We recommend you start setting `weights_only=True` for any use case where you don't have full control of the loaded file. Please open an issue on GitHub for any issues related to this experimental feature.\n",
            "  model2.load_state_dict(torch.load(\"MODELO CON 128 UNIDADES\")) #Cargamos los pesos anteriores\n"
          ]
        },
        {
          "data": {
            "text/plain": [
              "<All keys matched successfully>"
            ]
          },
          "execution_count": 48,
          "metadata": {},
          "output_type": "execute_result"
        }
      ],
      "source": [
        "model2 = MLP(128) #Generamos un nuevo modelo\n",
        "model2.load_state_dict(torch.load(\"MODELO CON 128 UNIDADES\")) #Cargamos los pesos anteriores"
      ]
    },
    {
      "cell_type": "markdown",
      "metadata": {
        "id": "uIDn-_K1C-pv"
      },
      "source": [
        "Pruebe a predecir algunas de las imágenes propias que ha incorporado antes. ¿Funciona? ¿Se obtiene la misma predicción?"
      ]
    },
    {
      "cell_type": "code",
      "execution_count": 51,
      "metadata": {},
      "outputs": [
        {
          "name": "stderr",
          "output_type": "stream",
          "text": [
            "  3%|▎         | 1/30 [00:05<02:25,  5.03s/it]"
          ]
        },
        {
          "name": "stdout",
          "output_type": "stream",
          "text": [
            "Epoch: 0 | CrossEntropyLoss: 1.5970 | Train Accuracy: 0.7363 | Validation Accuracy: 0.8373\n"
          ]
        },
        {
          "name": "stderr",
          "output_type": "stream",
          "text": [
            "  7%|▋         | 2/30 [00:13<03:16,  7.03s/it]"
          ]
        },
        {
          "name": "stdout",
          "output_type": "stream",
          "text": [
            "Epoch: 1 | CrossEntropyLoss: 1.5515 | Train Accuracy: 0.8918 | Validation Accuracy: 0.9260\n"
          ]
        },
        {
          "name": "stderr",
          "output_type": "stream",
          "text": [
            " 10%|█         | 3/30 [00:18<02:43,  6.05s/it]"
          ]
        },
        {
          "name": "stdout",
          "output_type": "stream",
          "text": [
            "Epoch: 2 | CrossEntropyLoss: 1.5373 | Train Accuracy: 0.9276 | Validation Accuracy: 0.9368\n"
          ]
        },
        {
          "name": "stderr",
          "output_type": "stream",
          "text": [
            " 13%|█▎        | 4/30 [00:22<02:15,  5.19s/it]"
          ]
        },
        {
          "name": "stdout",
          "output_type": "stream",
          "text": [
            "Epoch: 3 | CrossEntropyLoss: 1.5238 | Train Accuracy: 0.9364 | Validation Accuracy: 0.9386\n"
          ]
        },
        {
          "name": "stderr",
          "output_type": "stream",
          "text": [
            " 17%|█▋        | 5/30 [00:29<02:31,  6.06s/it]"
          ]
        },
        {
          "name": "stdout",
          "output_type": "stream",
          "text": [
            "Epoch: 4 | CrossEntropyLoss: 1.5266 | Train Accuracy: 0.9425 | Validation Accuracy: 0.9413\n"
          ]
        },
        {
          "name": "stderr",
          "output_type": "stream",
          "text": [
            " 20%|██        | 6/30 [00:40<03:01,  7.58s/it]"
          ]
        },
        {
          "name": "stdout",
          "output_type": "stream",
          "text": [
            "Epoch: 5 | CrossEntropyLoss: 1.4986 | Train Accuracy: 0.9474 | Validation Accuracy: 0.9472\n"
          ]
        },
        {
          "name": "stderr",
          "output_type": "stream",
          "text": [
            " 23%|██▎       | 7/30 [00:48<02:59,  7.80s/it]"
          ]
        },
        {
          "name": "stdout",
          "output_type": "stream",
          "text": [
            "Epoch: 6 | CrossEntropyLoss: 1.5518 | Train Accuracy: 0.9519 | Validation Accuracy: 0.9508\n"
          ]
        },
        {
          "name": "stderr",
          "output_type": "stream",
          "text": [
            " 27%|██▋       | 8/30 [00:54<02:40,  7.31s/it]"
          ]
        },
        {
          "name": "stdout",
          "output_type": "stream",
          "text": [
            "Epoch: 7 | CrossEntropyLoss: 1.4870 | Train Accuracy: 0.9546 | Validation Accuracy: 0.9490\n"
          ]
        },
        {
          "name": "stderr",
          "output_type": "stream",
          "text": [
            " 30%|███       | 9/30 [01:03<02:40,  7.65s/it]"
          ]
        },
        {
          "name": "stdout",
          "output_type": "stream",
          "text": [
            "Epoch: 8 | CrossEntropyLoss: 1.5275 | Train Accuracy: 0.9577 | Validation Accuracy: 0.9498\n"
          ]
        },
        {
          "name": "stderr",
          "output_type": "stream",
          "text": [
            " 33%|███▎      | 10/30 [01:10<02:28,  7.41s/it]"
          ]
        },
        {
          "name": "stdout",
          "output_type": "stream",
          "text": [
            "Epoch: 9 | CrossEntropyLoss: 1.5169 | Train Accuracy: 0.9605 | Validation Accuracy: 0.9566\n"
          ]
        },
        {
          "name": "stderr",
          "output_type": "stream",
          "text": [
            " 37%|███▋      | 11/30 [01:17<02:21,  7.42s/it]"
          ]
        },
        {
          "name": "stdout",
          "output_type": "stream",
          "text": [
            "Epoch: 10 | CrossEntropyLoss: 1.5055 | Train Accuracy: 0.9617 | Validation Accuracy: 0.9556\n"
          ]
        },
        {
          "name": "stderr",
          "output_type": "stream",
          "text": [
            " 40%|████      | 12/30 [01:23<02:04,  6.90s/it]"
          ]
        },
        {
          "name": "stdout",
          "output_type": "stream",
          "text": [
            "Epoch: 11 | CrossEntropyLoss: 1.4786 | Train Accuracy: 0.9635 | Validation Accuracy: 0.9581\n"
          ]
        },
        {
          "name": "stderr",
          "output_type": "stream",
          "text": [
            " 43%|████▎     | 13/30 [01:31<02:05,  7.37s/it]"
          ]
        },
        {
          "name": "stdout",
          "output_type": "stream",
          "text": [
            "Epoch: 12 | CrossEntropyLoss: 1.5273 | Train Accuracy: 0.9650 | Validation Accuracy: 0.9584\n"
          ]
        },
        {
          "name": "stderr",
          "output_type": "stream",
          "text": [
            " 47%|████▋     | 14/30 [01:40<02:04,  7.77s/it]"
          ]
        },
        {
          "name": "stdout",
          "output_type": "stream",
          "text": [
            "Epoch: 13 | CrossEntropyLoss: 1.4871 | Train Accuracy: 0.9663 | Validation Accuracy: 0.9597\n"
          ]
        },
        {
          "name": "stderr",
          "output_type": "stream",
          "text": [
            " 50%|█████     | 15/30 [01:50<02:05,  8.40s/it]"
          ]
        },
        {
          "name": "stdout",
          "output_type": "stream",
          "text": [
            "Epoch: 14 | CrossEntropyLoss: 1.4900 | Train Accuracy: 0.9671 | Validation Accuracy: 0.9593\n"
          ]
        },
        {
          "name": "stderr",
          "output_type": "stream",
          "text": [
            " 53%|█████▎    | 16/30 [01:54<01:38,  7.05s/it]"
          ]
        },
        {
          "name": "stdout",
          "output_type": "stream",
          "text": [
            "Epoch: 15 | CrossEntropyLoss: 1.5178 | Train Accuracy: 0.9682 | Validation Accuracy: 0.9588\n"
          ]
        },
        {
          "name": "stderr",
          "output_type": "stream",
          "text": [
            " 57%|█████▋    | 17/30 [01:59<01:24,  6.50s/it]"
          ]
        },
        {
          "name": "stdout",
          "output_type": "stream",
          "text": [
            "Epoch: 16 | CrossEntropyLoss: 1.5005 | Train Accuracy: 0.9693 | Validation Accuracy: 0.9582\n"
          ]
        },
        {
          "name": "stderr",
          "output_type": "stream",
          "text": [
            " 60%|██████    | 18/30 [02:05<01:14,  6.24s/it]"
          ]
        },
        {
          "name": "stdout",
          "output_type": "stream",
          "text": [
            "Epoch: 17 | CrossEntropyLoss: 1.4806 | Train Accuracy: 0.9708 | Validation Accuracy: 0.9608\n"
          ]
        },
        {
          "name": "stderr",
          "output_type": "stream",
          "text": [
            " 63%|██████▎   | 19/30 [02:13<01:16,  6.96s/it]"
          ]
        },
        {
          "name": "stdout",
          "output_type": "stream",
          "text": [
            "Epoch: 18 | CrossEntropyLoss: 1.4987 | Train Accuracy: 0.9714 | Validation Accuracy: 0.9583\n"
          ]
        },
        {
          "name": "stderr",
          "output_type": "stream",
          "text": [
            " 67%|██████▋   | 20/30 [02:17<01:00,  6.10s/it]"
          ]
        },
        {
          "name": "stdout",
          "output_type": "stream",
          "text": [
            "Epoch: 19 | CrossEntropyLoss: 1.4770 | Train Accuracy: 0.9719 | Validation Accuracy: 0.9615\n"
          ]
        },
        {
          "name": "stderr",
          "output_type": "stream",
          "text": [
            " 70%|███████   | 21/30 [02:27<01:03,  7.04s/it]"
          ]
        },
        {
          "name": "stdout",
          "output_type": "stream",
          "text": [
            "Epoch: 20 | CrossEntropyLoss: 1.5012 | Train Accuracy: 0.9730 | Validation Accuracy: 0.9583\n"
          ]
        },
        {
          "name": "stderr",
          "output_type": "stream",
          "text": [
            " 73%|███████▎  | 22/30 [02:31<00:50,  6.34s/it]"
          ]
        },
        {
          "name": "stdout",
          "output_type": "stream",
          "text": [
            "Epoch: 21 | CrossEntropyLoss: 1.4735 | Train Accuracy: 0.9734 | Validation Accuracy: 0.9610\n"
          ]
        },
        {
          "name": "stderr",
          "output_type": "stream",
          "text": [
            " 77%|███████▋  | 23/30 [02:36<00:41,  5.89s/it]"
          ]
        },
        {
          "name": "stdout",
          "output_type": "stream",
          "text": [
            "Epoch: 22 | CrossEntropyLoss: 1.4956 | Train Accuracy: 0.9741 | Validation Accuracy: 0.9607\n"
          ]
        },
        {
          "name": "stderr",
          "output_type": "stream",
          "text": [
            " 80%|████████  | 24/30 [02:40<00:31,  5.27s/it]"
          ]
        },
        {
          "name": "stdout",
          "output_type": "stream",
          "text": [
            "Epoch: 23 | CrossEntropyLoss: 1.4728 | Train Accuracy: 0.9739 | Validation Accuracy: 0.9614\n"
          ]
        },
        {
          "name": "stderr",
          "output_type": "stream",
          "text": [
            " 83%|████████▎ | 25/30 [02:45<00:25,  5.13s/it]"
          ]
        },
        {
          "name": "stdout",
          "output_type": "stream",
          "text": [
            "Epoch: 24 | CrossEntropyLoss: 1.4760 | Train Accuracy: 0.9751 | Validation Accuracy: 0.9622\n"
          ]
        },
        {
          "name": "stderr",
          "output_type": "stream",
          "text": [
            " 87%|████████▋ | 26/30 [02:49<00:19,  4.98s/it]"
          ]
        },
        {
          "name": "stdout",
          "output_type": "stream",
          "text": [
            "Epoch: 25 | CrossEntropyLoss: 1.4726 | Train Accuracy: 0.9756 | Validation Accuracy: 0.9605\n"
          ]
        },
        {
          "name": "stderr",
          "output_type": "stream",
          "text": [
            " 90%|█████████ | 27/30 [02:58<00:17,  5.94s/it]"
          ]
        },
        {
          "name": "stdout",
          "output_type": "stream",
          "text": [
            "Epoch: 26 | CrossEntropyLoss: 1.4637 | Train Accuracy: 0.9758 | Validation Accuracy: 0.9626\n"
          ]
        },
        {
          "name": "stderr",
          "output_type": "stream",
          "text": [
            " 93%|█████████▎| 28/30 [03:03<00:11,  5.76s/it]"
          ]
        },
        {
          "name": "stdout",
          "output_type": "stream",
          "text": [
            "Epoch: 27 | CrossEntropyLoss: 1.5033 | Train Accuracy: 0.9762 | Validation Accuracy: 0.9618\n"
          ]
        },
        {
          "name": "stderr",
          "output_type": "stream",
          "text": [
            " 97%|█████████▋| 29/30 [03:09<00:05,  5.99s/it]"
          ]
        },
        {
          "name": "stdout",
          "output_type": "stream",
          "text": [
            "Epoch: 28 | CrossEntropyLoss: 1.4747 | Train Accuracy: 0.9766 | Validation Accuracy: 0.9616\n"
          ]
        },
        {
          "name": "stderr",
          "output_type": "stream",
          "text": [
            "100%|██████████| 30/30 [03:15<00:00,  6.52s/it]"
          ]
        },
        {
          "name": "stdout",
          "output_type": "stream",
          "text": [
            "Epoch: 29 | CrossEntropyLoss: 1.4841 | Train Accuracy: 0.9763 | Validation Accuracy: 0.9635\n"
          ]
        },
        {
          "name": "stderr",
          "output_type": "stream",
          "text": [
            "\n"
          ]
        },
        {
          "data": {
            "image/png": "[encoded data removed]",
            "text/plain": [
              "<Figure size 640x480 with 1 Axes>"
            ]
          },
          "metadata": {},
          "output_type": "display_data"
        },
        {
          "data": {
            "image/png": "[encoded data removed]",
            "text/plain": [
              "<Figure size 640x480 with 1 Axes>"
            ]
          },
          "metadata": {},
          "output_type": "display_data"
        }
      ],
      "source": [
        "model = MLP(25)\n",
        "lossFun = nn.CrossEntropyLoss()\n",
        "optimizer = torch.optim.SGD(model.parameters(), lr=0.1, momentum=0.9)\n",
        "\n",
        "lossTrain_list         = []\n",
        "lossVal_list      = []\n",
        "accTrain_list     = []\n",
        "accVal_list       = []\n",
        "num_epochs = 30\n",
        "\n",
        "for epoch in tqdm(range(num_epochs)):\n",
        "    Ntrain=0   #numero total de datos de entrenamiento\n",
        "    correct=0\n",
        "    # ENTRENAMIENTO con datos de TRAIN\n",
        "\n",
        "    for images, targets in train_loader:\n",
        "        optimizer.zero_grad()                      # 1. Inicializa gradiente\n",
        "        outputs = model(images)                    # 2. Propagación hacia adelante. Obtención de la salida\n",
        "        loss = lossFun(outputs, targets)           # 3. Cálculo del error\n",
        "        loss.backward()                            # 4. Propagación hacia atrás de los errores.\n",
        "        optimizer.step()                           #    Actualiza parámetros.\n",
        "\n",
        "        predicted = torch.argmax(outputs.data, 1)  # salida predicha\n",
        "        Ntrain += len(targets)                     # total datos de entrenamiento\n",
        "        correct += (predicted == targets).sum()    # número de predicciones correctas\n",
        "\n",
        "    # calcula Accuracy o precisión de entrenamiento\n",
        "    accTrain = float(correct) / float(Ntrain)\n",
        "    # guarda resultados de cada epoch\n",
        "    lossTrain_list.append(loss.item())\n",
        "    accTrain_list.append(accTrain)\n",
        "\n",
        "    # VALIDACIÓN con los datos de TEST\n",
        "    correct = 0\n",
        "    NVal  = 0\n",
        "    with torch.no_grad():\n",
        "        for images, targets in test_loader:\n",
        "            outputs = model(images)                     # Aplica Modelo a datos de Test\n",
        "            lossVal    = lossFun(outputs, targets)\n",
        "            predicted = torch.max(outputs.data, 1)[1]   # salida calculada\n",
        "            NVal += len(targets)                        # total datos de test\n",
        "            correct += (predicted == targets).sum()     # número de predicciones incorrectas\n",
        "\n",
        "    # calcula la precisión de Validación\n",
        "    accVal = float(correct) / float(NVal)\n",
        "    accVal_list.append(accVal)\n",
        "    lossVal_list.append(lossVal.item())\n",
        "\n",
        "    #Resultados por epoch\n",
        "    print(f'Epoch: {epoch} | CrossEntropyLoss: {loss.data:.4f} | Train Accuracy: {accTrain:.4f} | Validation Accuracy: {accVal:.4f}')\n",
        "\n",
        "sns.lineplot(x=list(range(num_epochs)), y=accVal_list, label=\"Validation\")\n",
        "sns.lineplot(x=list(range(num_epochs)), y=accTrain_list, label=\"Train\")\n",
        "plt.legend()\n",
        "plt.xlabel(\"Epoch\")\n",
        "plt.ylabel(\"Accuracy\")\n",
        "plt.title(\"Validation versus Train Accuracy\")\n",
        "plt.show()\n",
        "\n",
        "sns.lineplot(x=range(num_epochs), y=lossVal_list, label=\"Validation\")\n",
        "sns.lineplot(x=range(num_epochs), y=lossTrain_list, label=\"Train\")\n",
        "plt.legend()\n",
        "plt.xlabel(\"Epoch\")\n",
        "plt.ylabel(\"Cross Entropy Loss\")\n",
        "plt.title(\"Validation versus Train Loss\")\n",
        "plt.show()"
      ]
    },
    {
      "cell_type": "code",
      "execution_count": 52,
      "metadata": {},
      "outputs": [
        {
          "name": "stdout",
          "output_type": "stream",
          "text": [
            "Imagenes2/3.png\n",
            "Imagenes2/9.png\n",
            "Imagenes2/7.png\n",
            "Imagenes2/2.png\n",
            "Imagenes2/5.png\n",
            "Imagenes2/1.png\n",
            "Imagenes2/4.png\n",
            "Imagenes2/8.png\n",
            "Imagenes2/6.png\n",
            "Imagenes2/0.png\n"
          ]
        },
        {
          "data": {
            "image/png": "[encoded data removed]",
            "text/plain": [
              "<Figure size 1200x400 with 10 Axes>"
            ]
          },
          "metadata": {},
          "output_type": "display_data"
        }
      ],
      "source": [
        "aciertos = []\n",
        "Nsubplots=10#Dividir en el número de imágenes que queramos mostrar en una fila\n",
        "fig, ax = plt.subplots(1, Nsubplots, figsize=(12, 4), tight_layout=True)\n",
        "idx = np.random.choice(len(train_set), Nsubplots) # Se seleccionan de forma aleatoria 8 índices\n",
        "\n",
        "k = 0\n",
        "for path in Path(\"Imagenes2\").rglob(\"*.png\"):\n",
        "    print(path)\n",
        "\n",
        "    imagen = Image.open(path)\n",
        "    target = str(path).split(\"\\\\\")[-1]\n",
        "    target = re.search('\\d', target)[0]\n",
        "\n",
        "    imagen = Imagen(imagen, True)\n",
        "    y_hat = model(imagen)\n",
        "    y_hat = torch.argmax(y_hat)\n",
        "    aciertos.append(int(y_hat == int(target)))\n",
        "    ax[k%len(ax)].imshow(imagen.view(28,28).numpy(), cmap=\"Greys_r\")\n",
        "    ax[k%len(ax)].axis('off') # Se eliminan los ejes para que sólo se vean los números.\n",
        "    ax[k%len(ax)].set_title(str(y_hat.item()))\n",
        "    k += 1"
      ]
    },
    {
      "cell_type": "markdown",
      "metadata": {
        "id": "ONo_ucQwC-pv"
      },
      "source": [
        "Si, predice igual de bien."
      ]
    }
  ],
  "metadata": {
    "colab": {
      "provenance": []
    },
    "kernelspec": {
      "display_name": ".venv",
      "language": "python",
      "name": "python3"
    },
    "language_info": {
      "codemirror_mode": {
        "name": "ipython",
        "version": 3
      },
      "file_extension": ".py",
      "mimetype": "text/x-python",
      "name": "python",
      "nbconvert_exporter": "python",
      "pygments_lexer": "ipython3",
      "version": "3.10.12"
    }
  },
  "nbformat": 4,
  "nbformat_minor": 0
}
